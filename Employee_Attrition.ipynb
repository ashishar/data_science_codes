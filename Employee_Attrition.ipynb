{
  "nbformat": 4,
  "nbformat_minor": 0,
  "metadata": {
    "colab": {
      "name": "Employee_Attrition.ipynb",
      "provenance": [],
      "authorship_tag": "ABX9TyP0iySmUCWAExCncjQ4rJlA",
      "include_colab_link": true
    },
    "kernelspec": {
      "name": "python3",
      "display_name": "Python 3"
    },
    "language_info": {
      "name": "python"
    }
  },
  "cells": [
    {
      "cell_type": "markdown",
      "metadata": {
        "id": "view-in-github",
        "colab_type": "text"
      },
      "source": [
        "<a href=\"https://colab.research.google.com/github/ashishar/data_science_codes/blob/main/Employee_Attrition.ipynb\" target=\"_parent\"><img src=\"https://colab.research.google.com/assets/colab-badge.svg\" alt=\"Open In Colab\"/></a>"
      ]
    },
    {
      "cell_type": "markdown",
      "source": [
        "**Import Dataset**"
      ],
      "metadata": {
        "id": "-mVva3Vw9UAu"
      }
    },
    {
      "cell_type": "code",
      "execution_count": 6,
      "metadata": {
        "colab": {
          "base_uri": "https://localhost:8080/"
        },
        "id": "voJmXmo-8vCw",
        "outputId": "0fa0e609-e4d4-49ef-a297-dc0ac99f6f2c"
      },
      "outputs": [
        {
          "output_type": "stream",
          "name": "stdout",
          "text": [
            "404 - Not Found\n"
          ]
        }
      ],
      "source": [
        "#import kaggle dataset\n",
        "! pip install -q kaggle\n",
        "from google.colab import files\n",
        "#! mkdir ~/.kaggle\n",
        "! cp kaggle.json ~/.kaggle/\n",
        "! chmod 600 ~/.kaggle/kaggle.json\n",
        "! kaggle datasets download kanikar/employeeatrrition-prediction"
      ]
    },
    {
      "cell_type": "code",
      "source": [
        "! unzip employeeatrrition-prediction.zip\n",
        "!ls"
      ],
      "metadata": {
        "colab": {
          "base_uri": "https://localhost:8080/"
        },
        "id": "AtxJhgBI-UqL",
        "outputId": "7bbd56ad-af61-4b64-c346-7fea95767a70"
      },
      "execution_count": 7,
      "outputs": [
        {
          "output_type": "stream",
          "name": "stdout",
          "text": [
            "unzip:  cannot find or open employeeatrrition-prediction.zip, employeeatrrition-prediction.zip.zip or employeeatrrition-prediction.zip.ZIP.\n",
            "kaggle.json  sample_data\n"
          ]
        }
      ]
    }
  ]
}